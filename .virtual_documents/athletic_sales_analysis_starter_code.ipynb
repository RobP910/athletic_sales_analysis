# Import Libraries and Dependencies
import pandas as pd





# Read the CSV files into DataFrames.
sales_2020_df = pd.read_csv("Resources/athletic_sales_2020.csv")
sales_2021_df = pd.read_csv("Resources/athletic_sales_2021.csv")


# Adding a "year" column
# Display the 2020 sales DataFrame
sales_2020_df["sales_year"] = 2020
print(sales_2020_df)


# Adding a "year" column
# Display the 2021 sales DataFrame
sales_2021_df["sales_year"] = 2021
print(sales_2021_df)





# Check the 2020 sales data types.
print(sales_2020_df.dtypes)


# Check the 2021 sales data types.
print(sales_2021_df.dtypes)





# Combine the 2020 and 2021 sales DataFrames on the rows and reset the index.
combined_sales_df = pd.concat([sales_2020_df, sales_2021_df], ignore_index=True)
# combined_sales_df.reset_index(drop=True, inplace=True)
combined_sales_df


# Check if any values are null.
nulls = combined_sales_df.isnull().sum()
print(nulls)


# Check the data type of each column
print(combined_sales_df.dtypes)


# Convert the "invoice_date" to a datetime datatype
combined_sales_df["invoice_date"] = pd.to_datetime(combined_sales_df["invoice_date"], format="%m/%d/%y")
print(combined_sales_df["invoice_date"])


# Confirm that the "invoice_date" data type has been changed.
print(combined_sales_df.dtypes)








# Show the number of products sold for region, state, and city.
# Rename the sum to "Total_Products_Sold".
combined_sales_df.rename(columns={"units_sold": "Total_Products_Sold"}, inplace=True)
grouped_combined_sales = combined_sales_df.groupby(["region", "state", "city"])["Total_Products_Sold"].sum()
region_sales = combined_sales_df.groupby(["region"])["Total_Products_Sold"].sum()
state_sales = combined_sales_df.groupby(["state"])["Total_Products_Sold"].sum()
city_sales = combined_sales_df.groupby(["city"])["Total_Products_Sold"].sum()

# Show the top 5 results.
print(grouped_combined_sales.sort_values(ascending=False).head())
print()
print(region_sales.sort_values(ascending=False))
print()
print(state_sales.sort_values(ascending=False).head())
print()
print(city_sales.sort_values(ascending=False).head())





# Show the number products sold for region, state, and city.
pt_combined_sales_df = pd.pivot_table(combined_sales_df, values="Total_Products_Sold", index=["region","state","city"], aggfunc="sum")

# Rename the "units_sold" column to "Total_Products_Sold"
    # This was already done in the previous process.
# Show the top 5 results.
print(pt_combined_sales_df.sort_values("Total_Products_Sold", ascending=False).head())








# Show the total sales for the products sold for each region, state, and city.
# Rename the "total_sales" column to "Total Sales"
grouped_product_sales = combined_sales_df.groupby(["region", "state", "city"])["total_sales"].sum()
grouped_product_sales.rename("Total Sales", inplace=True)
# Show the top 5 results.
print(grouped_product_sales.sort_values(ascending=False).head())





# Show the total sales for the products sold for each region, state, and city.
pt_product_sales_df = pd.pivot_table(combined_sales_df, values="total_sales", index=["region","state","city"], aggfunc="sum")
# Optional: Rename the "total_sales" column to "Total Sales"
pt_product_sales_df.rename(columns={"total_sales": "Total Sales"}, inplace=True)
# Show the top 5 results.
print(pt_product_sales_df.sort_values("Total Sales", ascending=False).head())








# Show the total sales for the products sold for each retailer, region, state, and city.
retail_product_sales = combined_sales_df.groupby(["retailer", "region", "state", "city"])["total_sales"].sum()
# Rename the "total_sales" column to "Total Sales"
retail_product_sales.rename("Total Sales", inplace=True)
# Show the top 5 results.
print(retail_product_sales.sort_values(ascending=False).head())





# Show the total sales for the products sold for each retailer, region, state, and city.
pt_retail_sales_df = pd.pivot_table(combined_sales_df, values="total_sales", index=["retailer", "region","state","city"], aggfunc="sum")
# Optional: Rename the "total_sales" column to "Total Sales"
pt_retail_sales_df.rename(columns={"total_sales": "Total Sales"}, inplace=True)
# Show the top 5 results.
print(pt_retail_sales_df.sort_values("Total Sales", ascending=False).head())





# Filter the sales data to get the women's athletic footwear sales data.
filtered_sales_df = combined_sales_df[(combined_sales_df["product"] == "Women's Athletic Footwear")]
pt_filtered_sales_df = pd.pivot_table(filtered_sales_df, values="Total_Products_Sold", index=["retailer", "region","state","city"], aggfunc="sum")
# print(pt_filtered_sales_df)
print(pt_filtered_sales_df.sort_values("Total_Products_Sold", ascending=False)) #.head())





# Show the total number of women's athletic footwear sold for each retailer, region, state, and city.
# Rename the "units_sold" column to "Womens_Footwear_Units_Sold"
pt_filtered_sales_df.rename(columns={"Total_Products_Sold": "Womens_Footware_Units_Sold"}, inplace=True)
# Show the top 5 results.
print(pt_filtered_sales_df.sort_values("Womens_Footware_Units_Sold", ascending=False).head())





# Show the total number of women's athletic footwear sold for each retailer, region, state, and city.
    # see above
# Rename the "units_sold" column to "Womens_Footwear_Units_Sold"
# Show the top 5 results.
    # see above





# Create a pivot table with the 'invoice_date' column is the index, and the "total_sales" as the values.
pt_invoice_date = pd.pivot_table(filtered_sales_df, values="total_sales", index=["invoice_date"], aggfunc="sum")
# Optional: Rename the "total_sales" column to "Total Sales"
pt_invoice_date.rename(columns={"total_sales": "Total Sales"}, inplace=True)
# Show the table.
print(pt_invoice_date.sort_values("Total Sales", ascending=False))


# Resample the pivot table into daily bins, and get the total sales for each day.
daily_sample_df = pt_invoice_date.resample("D").sum()
# Sort the resampled pivot table in ascending order on "Total Sales".
print(daily_sample_df.sort_values("Total Sales", ascending=False).head(10))





# Resample the pivot table into weekly bins, and get the total sales for each week.
weekly_sample_df = pt_invoice_date.resample("W").sum()
# Sort the resampled pivot table in ascending order on "Total Sales".
print(weekly_sample_df.sort_values("Total Sales", ascending=False).head(10))


# I used ChatGPT 3.5 to assist in finding solutions to some of the issues/errors I came across during this challenge.
# I also frequently compared my results to Module 5 Challenge assignment page to make sure I was getting the same results.
